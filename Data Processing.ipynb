{
 "cells": [
  {
   "cell_type": "code",
   "execution_count": 1,
   "metadata": {},
   "outputs": [],
   "source": [
    "import os\n",
    "import ast\n",
    "import time \n",
    "import requests\n",
    "import pandas as pd\n",
    "import matplotlib.pyplot as plt\n",
    "from dotenv import load_dotenv\n",
    "from sklearn.feature_extraction.text import TfidfVectorizer\n",
    "from sklearn.metrics.pairwise import cosine_similarity\n"
   ]
  },
  {
   "cell_type": "code",
   "execution_count": 2,
   "metadata": {},
   "outputs": [
    {
     "name": "stdout",
     "output_type": "stream",
     "text": [
      "Movies saved to movies_with_credits.csv with 40000 entries.\n"
     ]
    }
   ],
   "source": [
    "load_dotenv()\n",
    "api_key = os.getenv('TMDB_API_KEY')\n",
    "headers = {\"Authorization\": f\"Bearer {os.getenv('TMDB_ACCESS_TOKEN')}\"}\n",
    "num_pages = 100\n",
    "\n",
    "all_movies = []\n",
    "\n",
    "#Fetching the director and actor names from the database\n",
    "def get_movie_credits(movie_id):\n",
    "    credits_url = f\"https://api.themoviedb.org/3/movie/{movie_id}/credits?api_key={api_key}\"\n",
    "    response = requests.get(credits_url)\n",
    "    if response.status_code == 200:\n",
    "        credits = response.json()\n",
    "        director = next((member['name'] for member in credits['crew'] if member['job'] == 'Director'), 'Unknown')\n",
    "        actors = ', '.join([actor['name'] for actor in credits['cast'][:3]])  # Get top 3 actors\n",
    "        return director, actors\n",
    "    else:\n",
    "        print(f\"Failed to fetch credits for movie ID {movie_id}. Status code: {response.status_code}\")\n",
    "        return 'Unknown', 'Unknown'\n",
    "\n",
    "# Fetch popular movies from TMDB API and store them in a list of dictionaries\n",
    "response = requests.get('https://api.themoviedb.org/3/movie/popular', headers=headers)\n",
    "\n",
    "for page in range(1, num_pages+1):\n",
    "    response = requests.get(f'https://api.themoviedb.org/3/movie/popular?page={page}', headers=headers)\n",
    "    params = {\"page\":page}\n",
    "    #If the http request is successful then \n",
    "    if response.status_code == 200:\n",
    "        movies = response.json()['results'] \n",
    "\n",
    "        #For each movie getting credits\n",
    "        for movie in movies:\n",
    "            director, actors = get_movie_credits(movie['id'])\n",
    "            movie['director'] = director\n",
    "            movie['actors'] = actors\n",
    "            all_movies.extend(movies) #Unpacks list and adds all those elements into movie list \n",
    "            time.sleep(0.25)\n",
    "\n",
    "    else:\n",
    "        print(f\"Error: Status code {response.status_code}\")\n",
    "        break\n",
    "    \n",
    "# Save combined data to CSV\n",
    "df = pd.DataFrame(all_movies)[['poster_path', 'id', 'title', 'release_date', 'vote_average', 'vote_count', 'overview', 'original_language', 'genre_ids', 'director', 'actors']]\n",
    "df.to_csv('movies.csv', index=False)\n",
    "print(f\"Movies saved to movies_with_credits.csv with {len(all_movies)} entries.\")"
   ]
  },
  {
   "cell_type": "code",
   "execution_count": 3,
   "metadata": {},
   "outputs": [
    {
     "name": "stdout",
     "output_type": "stream",
     "text": [
      "                  title                                   genres\n",
      "0  Sonic the Hedgehog 3  Action, Science Fiction, Comedy, Family\n",
      "1     Kraven the Hunter              Action, Adventure, Thriller\n",
      "2               Moana 2     Animation, Adventure, Family, Comedy\n",
      "3        Back in Action                           Action, Comedy\n",
      "4                Alarum                  Action, Crime, Thriller\n"
     ]
    }
   ],
   "source": [
    "movies_data = pd.read_csv(\"movies.csv\")\n",
    "\n",
    "genre_mapping = {\n",
    "    28: 'Action',\n",
    "    12: 'Adventure',\n",
    "    16: 'Animation',\n",
    "    35: 'Comedy',\n",
    "    80: 'Crime',\n",
    "    99: 'Documentary',\n",
    "    18: 'Drama',\n",
    "    10751: 'Family',\n",
    "    14: 'Fantasy',\n",
    "    36: 'History',\n",
    "    27: 'Horror',\n",
    "    10402: 'Music',\n",
    "    9648: 'Mystery',\n",
    "    10749: 'Romance',\n",
    "    878: 'Science Fiction',\n",
    "    10770: 'TV Movie',\n",
    "    53: 'Thriller',\n",
    "    10752: 'War',\n",
    "    37: 'Western'\n",
    "}\n",
    "# Convert 'genre_ids' from string to actual list of integers\n",
    "movies_data['genre_ids'] = movies_data['genre_ids'].apply(ast.literal_eval)\n",
    "\n",
    "# Function to map genre_ids to genre names\n",
    "def map_genres(genre_ids):\n",
    "    return ', '.join([genre_mapping.get(genre_id, 'Unknown') for genre_id in genre_ids])\n",
    "\n",
    "\n",
    "# Apply the mapping function to create a new 'genres' column\n",
    "movies_data['genres'] = movies_data['genre_ids'].apply(map_genres)\n",
    "\n",
    "# Display the updated DataFrame\n",
    "print(movies_data[['title', 'genres']].head())"
   ]
  },
  {
   "cell_type": "code",
   "execution_count": 4,
   "metadata": {},
   "outputs": [
    {
     "data": {
      "text/plain": [
       "(40000, 12)"
      ]
     },
     "execution_count": 4,
     "metadata": {},
     "output_type": "execute_result"
    }
   ],
   "source": [
    "movies_data.shape"
   ]
  },
  {
   "cell_type": "code",
   "execution_count": 5,
   "metadata": {},
   "outputs": [
    {
     "data": {
      "text/plain": [
       "poster_path           20\n",
       "id                     0\n",
       "title                  0\n",
       "release_date         120\n",
       "vote_average           0\n",
       "vote_count             0\n",
       "overview             300\n",
       "original_language      0\n",
       "genre_ids              0\n",
       "director               0\n",
       "actors               180\n",
       "genres                 0\n",
       "dtype: int64"
      ]
     },
     "execution_count": 5,
     "metadata": {},
     "output_type": "execute_result"
    }
   ],
   "source": [
    "movies_data.isna().sum()"
   ]
  },
  {
   "cell_type": "code",
   "execution_count": 6,
   "metadata": {},
   "outputs": [
    {
     "data": {
      "text/plain": [
       "0"
      ]
     },
     "execution_count": 6,
     "metadata": {},
     "output_type": "execute_result"
    }
   ],
   "source": [
    "movies_data = movies_data.drop_duplicates(subset = 'title')\n",
    "movies_data['title'].duplicated().sum()"
   ]
  },
  {
   "cell_type": "code",
   "execution_count": 7,
   "metadata": {},
   "outputs": [
    {
     "data": {
      "text/html": [
       "<div>\n",
       "<style scoped>\n",
       "    .dataframe tbody tr th:only-of-type {\n",
       "        vertical-align: middle;\n",
       "    }\n",
       "\n",
       "    .dataframe tbody tr th {\n",
       "        vertical-align: top;\n",
       "    }\n",
       "\n",
       "    .dataframe thead th {\n",
       "        text-align: right;\n",
       "    }\n",
       "</style>\n",
       "<table border=\"1\" class=\"dataframe\">\n",
       "  <thead>\n",
       "    <tr style=\"text-align: right;\">\n",
       "      <th></th>\n",
       "      <th>poster_path</th>\n",
       "      <th>id</th>\n",
       "      <th>title</th>\n",
       "      <th>release_date</th>\n",
       "      <th>vote_average</th>\n",
       "      <th>vote_count</th>\n",
       "      <th>overview</th>\n",
       "      <th>original_language</th>\n",
       "      <th>director</th>\n",
       "      <th>actors</th>\n",
       "      <th>genres</th>\n",
       "    </tr>\n",
       "  </thead>\n",
       "  <tbody>\n",
       "    <tr>\n",
       "      <th>0</th>\n",
       "      <td>/d8Ryb8AunYAuycVKDp5HpdWPKgC.jpg</td>\n",
       "      <td>939243</td>\n",
       "      <td>Sonic the Hedgehog 3</td>\n",
       "      <td>2024-12-19</td>\n",
       "      <td>7.800</td>\n",
       "      <td>1644</td>\n",
       "      <td>Sonic, Knuckles, and Tails reunite against a p...</td>\n",
       "      <td>en</td>\n",
       "      <td>Jeff Fowler</td>\n",
       "      <td>Jim Carrey, Ben Schwartz, Keanu Reeves</td>\n",
       "      <td>Action, Science Fiction, Comedy, Family</td>\n",
       "    </tr>\n",
       "    <tr>\n",
       "      <th>1</th>\n",
       "      <td>/nrlfJoxP1EkBVE9pU62L287Jl4D.jpg</td>\n",
       "      <td>539972</td>\n",
       "      <td>Kraven the Hunter</td>\n",
       "      <td>2024-12-11</td>\n",
       "      <td>6.612</td>\n",
       "      <td>1134</td>\n",
       "      <td>Kraven Kravinoff's complex relationship with h...</td>\n",
       "      <td>en</td>\n",
       "      <td>J.C. Chandor</td>\n",
       "      <td>Aaron Taylor-Johnson, Ariana DeBose, Fred Hech...</td>\n",
       "      <td>Action, Adventure, Thriller</td>\n",
       "    </tr>\n",
       "    <tr>\n",
       "      <th>2</th>\n",
       "      <td>/aLVkiINlIeCkcZIzb7XHzPYgO6L.jpg</td>\n",
       "      <td>1241982</td>\n",
       "      <td>Moana 2</td>\n",
       "      <td>2024-11-21</td>\n",
       "      <td>7.200</td>\n",
       "      <td>1377</td>\n",
       "      <td>After receiving an unexpected call from her wa...</td>\n",
       "      <td>en</td>\n",
       "      <td>David G. Derrick Jr.</td>\n",
       "      <td>Auliʻi Cravalho, Dwayne Johnson, Hualālai Chung</td>\n",
       "      <td>Animation, Adventure, Family, Comedy</td>\n",
       "    </tr>\n",
       "    <tr>\n",
       "      <th>3</th>\n",
       "      <td>/3L3l6LsiLGHkTG4RFB2aBA6BttB.jpg</td>\n",
       "      <td>993710</td>\n",
       "      <td>Back in Action</td>\n",
       "      <td>2025-01-15</td>\n",
       "      <td>6.611</td>\n",
       "      <td>866</td>\n",
       "      <td>Fifteen years after vanishing from the CIA to ...</td>\n",
       "      <td>en</td>\n",
       "      <td>Seth Gordon</td>\n",
       "      <td>Cameron Diaz, Jamie Foxx, McKenna Roberts</td>\n",
       "      <td>Action, Comedy</td>\n",
       "    </tr>\n",
       "    <tr>\n",
       "      <th>4</th>\n",
       "      <td>/v313aUGmMNj6yNveaiQXysBmjVS.jpg</td>\n",
       "      <td>1249289</td>\n",
       "      <td>Alarum</td>\n",
       "      <td>2025-01-16</td>\n",
       "      <td>5.800</td>\n",
       "      <td>141</td>\n",
       "      <td>Two married spies caught in the crosshairs of ...</td>\n",
       "      <td>en</td>\n",
       "      <td>Michael Polish</td>\n",
       "      <td>Scott Eastwood, Sylvester Stallone, Willa Fitz...</td>\n",
       "      <td>Action, Crime, Thriller</td>\n",
       "    </tr>\n",
       "  </tbody>\n",
       "</table>\n",
       "</div>"
      ],
      "text/plain": [
       "                        poster_path       id                 title  \\\n",
       "0  /d8Ryb8AunYAuycVKDp5HpdWPKgC.jpg   939243  Sonic the Hedgehog 3   \n",
       "1  /nrlfJoxP1EkBVE9pU62L287Jl4D.jpg   539972     Kraven the Hunter   \n",
       "2  /aLVkiINlIeCkcZIzb7XHzPYgO6L.jpg  1241982               Moana 2   \n",
       "3  /3L3l6LsiLGHkTG4RFB2aBA6BttB.jpg   993710        Back in Action   \n",
       "4  /v313aUGmMNj6yNveaiQXysBmjVS.jpg  1249289                Alarum   \n",
       "\n",
       "  release_date  vote_average  vote_count  \\\n",
       "0   2024-12-19         7.800        1644   \n",
       "1   2024-12-11         6.612        1134   \n",
       "2   2024-11-21         7.200        1377   \n",
       "3   2025-01-15         6.611         866   \n",
       "4   2025-01-16         5.800         141   \n",
       "\n",
       "                                            overview original_language  \\\n",
       "0  Sonic, Knuckles, and Tails reunite against a p...                en   \n",
       "1  Kraven Kravinoff's complex relationship with h...                en   \n",
       "2  After receiving an unexpected call from her wa...                en   \n",
       "3  Fifteen years after vanishing from the CIA to ...                en   \n",
       "4  Two married spies caught in the crosshairs of ...                en   \n",
       "\n",
       "               director                                             actors  \\\n",
       "0           Jeff Fowler             Jim Carrey, Ben Schwartz, Keanu Reeves   \n",
       "1          J.C. Chandor  Aaron Taylor-Johnson, Ariana DeBose, Fred Hech...   \n",
       "2  David G. Derrick Jr.    Auliʻi Cravalho, Dwayne Johnson, Hualālai Chung   \n",
       "3           Seth Gordon          Cameron Diaz, Jamie Foxx, McKenna Roberts   \n",
       "4        Michael Polish  Scott Eastwood, Sylvester Stallone, Willa Fitz...   \n",
       "\n",
       "                                    genres  \n",
       "0  Action, Science Fiction, Comedy, Family  \n",
       "1              Action, Adventure, Thriller  \n",
       "2     Animation, Adventure, Family, Comedy  \n",
       "3                           Action, Comedy  \n",
       "4                  Action, Crime, Thriller  "
      ]
     },
     "execution_count": 7,
     "metadata": {},
     "output_type": "execute_result"
    }
   ],
   "source": [
    "movies_data = movies_data.drop(columns = ['genre_ids'])\n",
    "movies_data.head(5)"
   ]
  },
  {
   "cell_type": "code",
   "execution_count": 8,
   "metadata": {},
   "outputs": [
    {
     "data": {
      "image/png": "[encoded data removed]",
      "text/plain": [
       "<Figure size 640x480 with 1 Axes>"
      ]
     },
     "metadata": {},
     "output_type": "display_data"
    }
   ],
   "source": [
    "#Top 10 movies\n",
    "top_movies = movies_data.sort_values(by = \"vote_average\", ascending = False).head(10)\n",
    "\n",
    "plt.bar(top_movies[\"title\"], top_movies[\"vote_average\"])\n",
    "plt.title(\"Average vote count for top movies\")\n",
    "plt.xlabel(\"movie_title\")\n",
    "plt.ylabel(\"vote_average\")\n",
    "plt.xticks(rotation=45, ha='right')\n",
    "plt.tight_layout()\n",
    "plt.show()\n"
   ]
  },
  {
   "cell_type": "code",
   "execution_count": 9,
   "metadata": {},
   "outputs": [
    {
     "data": {
      "image/png": "[encoded data removed]",
      "text/plain": [
       "<Figure size 1000x500 with 1 Axes>"
      ]
     },
     "metadata": {},
     "output_type": "display_data"
    }
   ],
   "source": [
    "movies_data[\"release_year\"] = pd.to_datetime(movies_data[\"release_date\"]).dt.year\n",
    "yearly_votes = movies_data.groupby('release_year')[\"vote_count\"].sum().reset_index()\n",
    "\n",
    "plt.figure(figsize=(10, 5))\n",
    "plt.bar(yearly_votes['release_year'], yearly_votes['vote_count'], color = \"skyblue\", width = 0.8)\n",
    "plt.title(\"Vote Counts by Year\")\n",
    "plt.xlabel(\"Year\")\n",
    "plt.ylabel(\"Vote Count\")\n",
    "plt.xticks(rotation=45)\n",
    "\n",
    "plt.tight_layout()\n",
    "plt.show()"
   ]
  },
  {
   "cell_type": "code",
   "execution_count": 10,
   "metadata": {},
   "outputs": [
    {
     "data": {
      "image/png": "[encoded data removed]",
      "text/plain": [
       "<Figure size 640x480 with 1 Axes>"
      ]
     },
     "metadata": {},
     "output_type": "display_data"
    }
   ],
   "source": [
    "#Getting vote total number of vote count for each director and resetting index so that director doesnt become the index\n",
    "def director_votes(movies_data):\n",
    "    director_votes = movies_data.groupby('director')['vote_count'].sum().reset_index() \n",
    "    top_directors = director_votes.sort_values(by = \"vote_count\", ascending = False).head(10) #Showing only the top directors \n",
    "\n",
    "    plt.barh(top_directors['director'], top_directors['vote_count'], color = \"skyblue\")\n",
    "    plt.xlabel(\"Director\")\n",
    "    plt.ylabel(\"Vote Count\")\n",
    "    plt.title(\"Directors Vote Count\")\n",
    "    plt.tight_layout()\n",
    "    plt.show()\n",
    "director_votes(movies_data)"
   ]
  },
  {
   "cell_type": "code",
   "execution_count": 11,
   "metadata": {},
   "outputs": [],
   "source": [
    "movies_data['combined_features'] = movies_data['overview'] + ' ' +  movies_data['genres']*2  + movies_data['actors'] + movies_data['director'] "
   ]
  },
  {
   "cell_type": "code",
   "execution_count": 12,
   "metadata": {},
   "outputs": [
    {
     "data": {
      "text/plain": [
       "0"
      ]
     },
     "execution_count": 12,
     "metadata": {},
     "output_type": "execute_result"
    }
   ],
   "source": [
    "movies_data = movies_data.dropna(subset = ['combined_features'])\n",
    "movies_data = movies_data.drop(columns = ['release_date'])\n",
    "movies_data['combined_features'].isna().sum()"
   ]
  },
  {
   "cell_type": "code",
   "execution_count": 13,
   "metadata": {},
   "outputs": [
    {
     "data": {
      "text/html": [
       "<div>\n",
       "<style scoped>\n",
       "    .dataframe tbody tr th:only-of-type {\n",
       "        vertical-align: middle;\n",
       "    }\n",
       "\n",
       "    .dataframe tbody tr th {\n",
       "        vertical-align: top;\n",
       "    }\n",
       "\n",
       "    .dataframe thead th {\n",
       "        text-align: right;\n",
       "    }\n",
       "</style>\n",
       "<table border=\"1\" class=\"dataframe\">\n",
       "  <thead>\n",
       "    <tr style=\"text-align: right;\">\n",
       "      <th></th>\n",
       "      <th>poster_path</th>\n",
       "      <th>id</th>\n",
       "      <th>title</th>\n",
       "      <th>vote_average</th>\n",
       "      <th>vote_count</th>\n",
       "      <th>overview</th>\n",
       "      <th>original_language</th>\n",
       "      <th>director</th>\n",
       "      <th>actors</th>\n",
       "      <th>genres</th>\n",
       "      <th>release_year</th>\n",
       "      <th>combined_features</th>\n",
       "    </tr>\n",
       "  </thead>\n",
       "  <tbody>\n",
       "    <tr>\n",
       "      <th>0</th>\n",
       "      <td>/d8Ryb8AunYAuycVKDp5HpdWPKgC.jpg</td>\n",
       "      <td>939243</td>\n",
       "      <td>Sonic the Hedgehog 3</td>\n",
       "      <td>7.800</td>\n",
       "      <td>1644</td>\n",
       "      <td>Sonic, Knuckles, and Tails reunite against a p...</td>\n",
       "      <td>en</td>\n",
       "      <td>Jeff Fowler</td>\n",
       "      <td>Jim Carrey, Ben Schwartz, Keanu Reeves</td>\n",
       "      <td>Action, Science Fiction, Comedy, Family</td>\n",
       "      <td>2024.0</td>\n",
       "      <td>Sonic, Knuckles, and Tails reunite against a p...</td>\n",
       "    </tr>\n",
       "    <tr>\n",
       "      <th>1</th>\n",
       "      <td>/nrlfJoxP1EkBVE9pU62L287Jl4D.jpg</td>\n",
       "      <td>539972</td>\n",
       "      <td>Kraven the Hunter</td>\n",
       "      <td>6.612</td>\n",
       "      <td>1134</td>\n",
       "      <td>Kraven Kravinoff's complex relationship with h...</td>\n",
       "      <td>en</td>\n",
       "      <td>J.C. Chandor</td>\n",
       "      <td>Aaron Taylor-Johnson, Ariana DeBose, Fred Hech...</td>\n",
       "      <td>Action, Adventure, Thriller</td>\n",
       "      <td>2024.0</td>\n",
       "      <td>Kraven Kravinoff's complex relationship with h...</td>\n",
       "    </tr>\n",
       "    <tr>\n",
       "      <th>2</th>\n",
       "      <td>/aLVkiINlIeCkcZIzb7XHzPYgO6L.jpg</td>\n",
       "      <td>1241982</td>\n",
       "      <td>Moana 2</td>\n",
       "      <td>7.200</td>\n",
       "      <td>1377</td>\n",
       "      <td>After receiving an unexpected call from her wa...</td>\n",
       "      <td>en</td>\n",
       "      <td>David G. Derrick Jr.</td>\n",
       "      <td>Auliʻi Cravalho, Dwayne Johnson, Hualālai Chung</td>\n",
       "      <td>Animation, Adventure, Family, Comedy</td>\n",
       "      <td>2024.0</td>\n",
       "      <td>After receiving an unexpected call from her wa...</td>\n",
       "    </tr>\n",
       "    <tr>\n",
       "      <th>3</th>\n",
       "      <td>/3L3l6LsiLGHkTG4RFB2aBA6BttB.jpg</td>\n",
       "      <td>993710</td>\n",
       "      <td>Back in Action</td>\n",
       "      <td>6.611</td>\n",
       "      <td>866</td>\n",
       "      <td>Fifteen years after vanishing from the CIA to ...</td>\n",
       "      <td>en</td>\n",
       "      <td>Seth Gordon</td>\n",
       "      <td>Cameron Diaz, Jamie Foxx, McKenna Roberts</td>\n",
       "      <td>Action, Comedy</td>\n",
       "      <td>2025.0</td>\n",
       "      <td>Fifteen years after vanishing from the CIA to ...</td>\n",
       "    </tr>\n",
       "    <tr>\n",
       "      <th>4</th>\n",
       "      <td>/v313aUGmMNj6yNveaiQXysBmjVS.jpg</td>\n",
       "      <td>1249289</td>\n",
       "      <td>Alarum</td>\n",
       "      <td>5.800</td>\n",
       "      <td>141</td>\n",
       "      <td>Two married spies caught in the crosshairs of ...</td>\n",
       "      <td>en</td>\n",
       "      <td>Michael Polish</td>\n",
       "      <td>Scott Eastwood, Sylvester Stallone, Willa Fitz...</td>\n",
       "      <td>Action, Crime, Thriller</td>\n",
       "      <td>2025.0</td>\n",
       "      <td>Two married spies caught in the crosshairs of ...</td>\n",
       "    </tr>\n",
       "    <tr>\n",
       "      <th>5</th>\n",
       "      <td>/xVS9XiO9upp2SnWx6KpBYb79hLR.jpg</td>\n",
       "      <td>1160956</td>\n",
       "      <td>Panda Plan</td>\n",
       "      <td>6.211</td>\n",
       "      <td>38</td>\n",
       "      <td>International action star Jackie Chan is invit...</td>\n",
       "      <td>zh</td>\n",
       "      <td>Zhang Luan</td>\n",
       "      <td>Jackie Chan, Shi Ce, Wei Xiang</td>\n",
       "      <td>Action, Comedy</td>\n",
       "      <td>2024.0</td>\n",
       "      <td>International action star Jackie Chan is invit...</td>\n",
       "    </tr>\n",
       "    <tr>\n",
       "      <th>6</th>\n",
       "      <td>/TVvIyCsFCmLk9MRLbAZi4X8f32.jpg</td>\n",
       "      <td>1410082</td>\n",
       "      <td>Sniper: The Last Stand</td>\n",
       "      <td>6.589</td>\n",
       "      <td>73</td>\n",
       "      <td>To stop an arms dealer from unleashing a deadl...</td>\n",
       "      <td>en</td>\n",
       "      <td>Danishka Esterhazy</td>\n",
       "      <td>Chad Michael Collins, Ryan Robbins, Sharon Taylor</td>\n",
       "      <td>Action, Thriller</td>\n",
       "      <td>2025.0</td>\n",
       "      <td>To stop an arms dealer from unleashing a deadl...</td>\n",
       "    </tr>\n",
       "    <tr>\n",
       "      <th>7</th>\n",
       "      <td>/jTPBMPTgk9zOUGSkWcoOGbX8cTi.jpg</td>\n",
       "      <td>710295</td>\n",
       "      <td>Wolf Man</td>\n",
       "      <td>6.400</td>\n",
       "      <td>270</td>\n",
       "      <td>With his marriage fraying, Blake persuades his...</td>\n",
       "      <td>en</td>\n",
       "      <td>Leigh Whannell</td>\n",
       "      <td>Christopher Abbott, Julia Garner, Matilda Firth</td>\n",
       "      <td>Horror, Thriller</td>\n",
       "      <td>2025.0</td>\n",
       "      <td>With his marriage fraying, Blake persuades his...</td>\n",
       "    </tr>\n",
       "    <tr>\n",
       "      <th>8</th>\n",
       "      <td>/jbOSUAWMGzGL1L4EaUF8K6zYFo7.jpg</td>\n",
       "      <td>762509</td>\n",
       "      <td>Mufasa: The Lion King</td>\n",
       "      <td>7.431</td>\n",
       "      <td>982</td>\n",
       "      <td>Mufasa, a cub lost and alone, meets a sympathe...</td>\n",
       "      <td>en</td>\n",
       "      <td>Barry Jenkins</td>\n",
       "      <td>Aaron Pierre, Kelvin Harrison Jr., Tiffany Boone</td>\n",
       "      <td>Adventure, Family, Animation</td>\n",
       "      <td>2024.0</td>\n",
       "      <td>Mufasa, a cub lost and alone, meets a sympathe...</td>\n",
       "    </tr>\n",
       "    <tr>\n",
       "      <th>9</th>\n",
       "      <td>/aosm8NMQ3UyoBVpSxyimorCQykC.jpg</td>\n",
       "      <td>912649</td>\n",
       "      <td>Venom: The Last Dance</td>\n",
       "      <td>6.775</td>\n",
       "      <td>2748</td>\n",
       "      <td>Eddie and Venom are on the run. Hunted by both...</td>\n",
       "      <td>en</td>\n",
       "      <td>Kelly Marcel</td>\n",
       "      <td>Tom Hardy, Chiwetel Ejiofor, Juno Temple</td>\n",
       "      <td>Action, Science Fiction, Adventure</td>\n",
       "      <td>2024.0</td>\n",
       "      <td>Eddie and Venom are on the run. Hunted by both...</td>\n",
       "    </tr>\n",
       "  </tbody>\n",
       "</table>\n",
       "</div>"
      ],
      "text/plain": [
       "                        poster_path       id                   title  \\\n",
       "0  /d8Ryb8AunYAuycVKDp5HpdWPKgC.jpg   939243    Sonic the Hedgehog 3   \n",
       "1  /nrlfJoxP1EkBVE9pU62L287Jl4D.jpg   539972       Kraven the Hunter   \n",
       "2  /aLVkiINlIeCkcZIzb7XHzPYgO6L.jpg  1241982                 Moana 2   \n",
       "3  /3L3l6LsiLGHkTG4RFB2aBA6BttB.jpg   993710          Back in Action   \n",
       "4  /v313aUGmMNj6yNveaiQXysBmjVS.jpg  1249289                  Alarum   \n",
       "5  /xVS9XiO9upp2SnWx6KpBYb79hLR.jpg  1160956              Panda Plan   \n",
       "6   /TVvIyCsFCmLk9MRLbAZi4X8f32.jpg  1410082  Sniper: The Last Stand   \n",
       "7  /jTPBMPTgk9zOUGSkWcoOGbX8cTi.jpg   710295                Wolf Man   \n",
       "8  /jbOSUAWMGzGL1L4EaUF8K6zYFo7.jpg   762509   Mufasa: The Lion King   \n",
       "9  /aosm8NMQ3UyoBVpSxyimorCQykC.jpg   912649   Venom: The Last Dance   \n",
       "\n",
       "   vote_average  vote_count  \\\n",
       "0         7.800        1644   \n",
       "1         6.612        1134   \n",
       "2         7.200        1377   \n",
       "3         6.611         866   \n",
       "4         5.800         141   \n",
       "5         6.211          38   \n",
       "6         6.589          73   \n",
       "7         6.400         270   \n",
       "8         7.431         982   \n",
       "9         6.775        2748   \n",
       "\n",
       "                                            overview original_language  \\\n",
       "0  Sonic, Knuckles, and Tails reunite against a p...                en   \n",
       "1  Kraven Kravinoff's complex relationship with h...                en   \n",
       "2  After receiving an unexpected call from her wa...                en   \n",
       "3  Fifteen years after vanishing from the CIA to ...                en   \n",
       "4  Two married spies caught in the crosshairs of ...                en   \n",
       "5  International action star Jackie Chan is invit...                zh   \n",
       "6  To stop an arms dealer from unleashing a deadl...                en   \n",
       "7  With his marriage fraying, Blake persuades his...                en   \n",
       "8  Mufasa, a cub lost and alone, meets a sympathe...                en   \n",
       "9  Eddie and Venom are on the run. Hunted by both...                en   \n",
       "\n",
       "               director                                             actors  \\\n",
       "0           Jeff Fowler             Jim Carrey, Ben Schwartz, Keanu Reeves   \n",
       "1          J.C. Chandor  Aaron Taylor-Johnson, Ariana DeBose, Fred Hech...   \n",
       "2  David G. Derrick Jr.    Auliʻi Cravalho, Dwayne Johnson, Hualālai Chung   \n",
       "3           Seth Gordon          Cameron Diaz, Jamie Foxx, McKenna Roberts   \n",
       "4        Michael Polish  Scott Eastwood, Sylvester Stallone, Willa Fitz...   \n",
       "5            Zhang Luan                     Jackie Chan, Shi Ce, Wei Xiang   \n",
       "6    Danishka Esterhazy  Chad Michael Collins, Ryan Robbins, Sharon Taylor   \n",
       "7        Leigh Whannell    Christopher Abbott, Julia Garner, Matilda Firth   \n",
       "8         Barry Jenkins   Aaron Pierre, Kelvin Harrison Jr., Tiffany Boone   \n",
       "9          Kelly Marcel           Tom Hardy, Chiwetel Ejiofor, Juno Temple   \n",
       "\n",
       "                                    genres  release_year  \\\n",
       "0  Action, Science Fiction, Comedy, Family        2024.0   \n",
       "1              Action, Adventure, Thriller        2024.0   \n",
       "2     Animation, Adventure, Family, Comedy        2024.0   \n",
       "3                           Action, Comedy        2025.0   \n",
       "4                  Action, Crime, Thriller        2025.0   \n",
       "5                           Action, Comedy        2024.0   \n",
       "6                         Action, Thriller        2025.0   \n",
       "7                         Horror, Thriller        2025.0   \n",
       "8             Adventure, Family, Animation        2024.0   \n",
       "9       Action, Science Fiction, Adventure        2024.0   \n",
       "\n",
       "                                   combined_features  \n",
       "0  Sonic, Knuckles, and Tails reunite against a p...  \n",
       "1  Kraven Kravinoff's complex relationship with h...  \n",
       "2  After receiving an unexpected call from her wa...  \n",
       "3  Fifteen years after vanishing from the CIA to ...  \n",
       "4  Two married spies caught in the crosshairs of ...  \n",
       "5  International action star Jackie Chan is invit...  \n",
       "6  To stop an arms dealer from unleashing a deadl...  \n",
       "7  With his marriage fraying, Blake persuades his...  \n",
       "8  Mufasa, a cub lost and alone, meets a sympathe...  \n",
       "9  Eddie and Venom are on the run. Hunted by both...  "
      ]
     },
     "execution_count": 13,
     "metadata": {},
     "output_type": "execute_result"
    }
   ],
   "source": [
    "movies_data.head(10)"
   ]
  },
  {
   "cell_type": "code",
   "execution_count": 16,
   "metadata": {},
   "outputs": [
    {
     "name": "stdout",
     "output_type": "stream",
     "text": [
      "    00  000   10  100  1000  101  108   11  118th  11th  ...  åkermanbrad  \\\n",
      "0  0.0  0.0  0.0  0.0   0.0  0.0  0.0  0.0    0.0   0.0  ...          0.0   \n",
      "1  0.0  0.0  0.0  0.0   0.0  0.0  0.0  0.0    0.0   0.0  ...          0.0   \n",
      "2  0.0  0.0  0.0  0.0   0.0  0.0  0.0  0.0    0.0   0.0  ...          0.0   \n",
      "3  0.0  0.0  0.0  0.0   0.0  0.0  0.0  0.0    0.0   0.0  ...          0.0   \n",
      "4  0.0  0.0  0.0  0.0   0.0  0.0  0.0  0.0    0.0   0.0  ...          0.0   \n",
      "\n",
      "   çesme  édouard  öztekin  øpstad  øvredal  ōshima  żuławski  žika  ʻohana  \n",
      "0    0.0      0.0      0.0     0.0      0.0     0.0       0.0   0.0     0.0  \n",
      "1    0.0      0.0      0.0     0.0      0.0     0.0       0.0   0.0     0.0  \n",
      "2    0.0      0.0      0.0     0.0      0.0     0.0       0.0   0.0     0.0  \n",
      "3    0.0      0.0      0.0     0.0      0.0     0.0       0.0   0.0     0.0  \n",
      "4    0.0      0.0      0.0     0.0      0.0     0.0       0.0   0.0     0.0  \n",
      "\n",
      "[5 rows x 18732 columns]\n"
     ]
    }
   ],
   "source": [
    "tfidf = TfidfVectorizer(stop_words = \"english\")\n",
    "\n",
    "#Applying TF-IDF on overview column\n",
    "tfidf_matrix = tfidf.fit_transform(movies_data['combined_features'])\n",
    "\n",
    "#Coverting tfidf matrix to a dataframe\n",
    "tfidf_df = pd.DataFrame(tfidf_matrix.toarray(), columns = tfidf.get_feature_names_out())\n",
    "\n",
    "print(tfidf_df.head())"
   ]
  },
  {
   "cell_type": "code",
   "execution_count": 17,
   "metadata": {},
   "outputs": [
    {
     "data": {
      "text/plain": [
       "1287      Guardians of the Galaxy\n",
       "130        A Quiet Place: Day One\n",
       "635     Beverly Hills Cop: Axel F\n",
       "745                  V/H/S/Beyond\n",
       "Name: title, dtype: object"
      ]
     },
     "execution_count": 17,
     "metadata": {},
     "output_type": "execute_result"
    }
   ],
   "source": [
    "movies_data = movies_data.reset_index(drop = True)\n",
    "cosine_sim = cosine_similarity(tfidf_df, tfidf_matrix)\n",
    "\n",
    "def get_similar_movies(title, movies_data, cosine_sim, threshold=0.05):\n",
    "\n",
    "    \"\"\"\"\n",
    "    Retreives the similarity score of the selected movie and all the other movies in the dataset\n",
    "    The list comprehension iterates over the cosine_sim scores and gets the index of the movie\n",
    "    It then sorts the movies in descending order based on their similarity score and returns the top 5 movies\n",
    "    \"\"\"\n",
    "\n",
    "    #Using .values for efficient comparison\n",
    "    if title not in movies_data['title'].values:\n",
    "        return f\"'{title} not fount in the dataset'\"\n",
    "\n",
    "    # Get the index of the selected movie from the dataframe and create a list of tuples with movie index and similarity score\n",
    "    idx = movies_data[movies_data['title'] == title].index[0]\n",
    "    #Enumerate  assigns each movie(idx) its cosine similarity score\n",
    "    sim_scores = list(enumerate(cosine_sim[idx]))\n",
    "    #After we created a list of tuiples of movies with their sim_score now sorting them based on their sim_score in descending order\n",
    "    sim_scores = sorted(sim_scores, key=lambda x: x[1], reverse=True)\n",
    "    #Getting the movies with sim_score > threshold\n",
    "    sim_scores = [score for score in sim_scores if score[1] >= threshold]\n",
    "    #top 5 movies \n",
    "    sim_scores = sim_scores[1:5]\n",
    "    movie_indices = [i[0] for i in sim_scores]\n",
    "    return movies_data['title'].iloc[movie_indices]\n",
    "\n",
    "get_similar_movies(\"Inception\", movies_data, cosine_sim)"
   ]
  },
  {
   "cell_type": "code",
   "execution_count": null,
   "metadata": {},
   "outputs": [],
   "source": [
    "movies_data.to_csv(\"movies.csv\", index = False)"
   ]
  }
 ],
 "metadata": {
  "kernelspec": {
   "display_name": "Python 3",
   "language": "python",
   "name": "python3"
  },
  "language_info": {
   "codemirror_mode": {
    "name": "ipython",
    "version": 3
   },
   "file_extension": ".py",
   "mimetype": "text/x-python",
   "name": "python",
   "nbconvert_exporter": "python",
   "pygments_lexer": "ipython3",
   "version": "3.12.6"
  }
 },
 "nbformat": 4,
 "nbformat_minor": 2
}
